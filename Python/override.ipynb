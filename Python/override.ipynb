{
 "cells": [
  {
   "cell_type": "code",
   "execution_count": 6,
   "metadata": {},
   "outputs": [
    {
     "name": "stdout",
     "output_type": "stream",
     "text": [
      "This is parent object\n",
      "This is parent object\n"
     ]
    }
   ],
   "source": [
    "class parent:\n",
    "    def func(self):\n",
    "        print(\"This is parent object\")\n",
    "class child(parent):\n",
    "    def func(self):\n",
    "        super().func()\n",
    "        \n",
    "ob1 = parent()\n",
    "ob1.func()\n",
    "ob2 = child()\n",
    "ob2.func()"
   ]
  },
  {
   "cell_type": "code",
   "execution_count": 9,
   "metadata": {},
   "outputs": [
    {
     "name": "stdout",
     "output_type": "stream",
     "text": [
      "()\n",
      "(1,)\n",
      "(1, 2)\n",
      "(1, 2, 3)\n",
      "(1, 2, 3, 4)\n"
     ]
    }
   ],
   "source": [
    "class Test:\n",
    "    def __init__(self, *args):\n",
    "        self.values = args\n",
    "        print(self.values)\n",
    "            \n",
    "ob1 = Test()\n",
    "ob2 = Test(1)\n",
    "ob3 = Test(1,2)\n",
    "ob4 = Test(1,2,3)\n",
    "ob5 = Test(1,2,3,4)\n",
    "\n"
   ]
  }
 ],
 "metadata": {
  "kernelspec": {
   "display_name": ".venv",
   "language": "python",
   "name": "python3"
  },
  "language_info": {
   "codemirror_mode": {
    "name": "ipython",
    "version": 3
   },
   "file_extension": ".py",
   "mimetype": "text/x-python",
   "name": "python",
   "nbconvert_exporter": "python",
   "pygments_lexer": "ipython3",
   "version": "3.11.9"
  }
 },
 "nbformat": 4,
 "nbformat_minor": 2
}
