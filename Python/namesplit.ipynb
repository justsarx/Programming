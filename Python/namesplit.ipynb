{
 "cells": [
  {
   "cell_type": "code",
   "execution_count": 7,
   "metadata": {},
   "outputs": [
    {
     "name": "stdout",
     "output_type": "stream",
     "text": [
      "A. R. "
     ]
    },
    {
     "ename": "KeyboardInterrupt",
     "evalue": "",
     "output_type": "error",
     "traceback": [
      "\u001b[1;31m---------------------------------------------------------------------------\u001b[0m",
      "\u001b[1;31mKeyboardInterrupt\u001b[0m                         Traceback (most recent call last)",
      "Cell \u001b[1;32mIn[7], line 9\u001b[0m\n\u001b[0;32m      7\u001b[0m \u001b[38;5;28;01melif\u001b[39;00m(name[i]\u001b[38;5;241m==\u001b[39m\u001b[38;5;124m\"\u001b[39m\u001b[38;5;124m \u001b[39m\u001b[38;5;124m\"\u001b[39m):\n\u001b[0;32m      8\u001b[0m     j \u001b[38;5;241m=\u001b[39m i\n\u001b[1;32m----> 9\u001b[0m     \u001b[38;5;28;01mwhile\u001b[39;00m j\u001b[38;5;241m+\u001b[39m\u001b[38;5;241m1\u001b[39m \u001b[38;5;241m<\u001b[39m \u001b[38;5;28mlen\u001b[39m(name):\n\u001b[0;32m     10\u001b[0m         \u001b[38;5;28;01mif\u001b[39;00m(name[j]\u001b[38;5;241m==\u001b[39m\u001b[38;5;124m\"\u001b[39m\u001b[38;5;124m \u001b[39m\u001b[38;5;124m\"\u001b[39m):\n\u001b[0;32m     11\u001b[0m             \u001b[38;5;28mprint\u001b[39m(name[j\u001b[38;5;241m+\u001b[39m\u001b[38;5;241m1\u001b[39m]\u001b[38;5;241m.\u001b[39mupper(), end\u001b[38;5;241m=\u001b[39m\u001b[38;5;124m\"\u001b[39m\u001b[38;5;124m. \u001b[39m\u001b[38;5;124m\"\u001b[39m)\n",
      "\u001b[1;31mKeyboardInterrupt\u001b[0m: "
     ]
    }
   ],
   "source": [
    "#name = input(\"Enter your name: \")\n",
    "name = \"Alok Ranjan Kumar\"\n",
    "i = 0\n",
    "while i < len(name):\n",
    "    if(i==0):\n",
    "        print(name[i].upper(), end=\". \")\n",
    "    elif(name[i]==\" \"):\n",
    "        j = i\n",
    "        while j+1 < len(name):\n",
    "            if(name[j]==\" \"):\n",
    "                print(name[j+1].upper(), end=\". \")\n",
    "                j+=1         \n",
    "    i += 1"
   ]
  },
  {
   "cell_type": "code",
   "execution_count": 33,
   "metadata": {},
   "outputs": [
    {
     "name": "stdout",
     "output_type": "stream",
     "text": [
      "7\n",
      "13\n"
     ]
    }
   ],
   "source": [
    "name = \"Santosh Kumar Jha\"\n",
    "i=0\n",
    "while i < len(name):\n",
    "    if(name[i]==\" \"):\n",
    "        print(i)\n",
    "    i += 1\n",
    "    "
   ]
  },
  {
   "cell_type": "code",
   "execution_count": 4,
   "metadata": {
    "tags": [
     "Working"
    ]
   },
   "outputs": [
    {
     "name": "stdout",
     "output_type": "stream",
     "text": [
      "S. K. Jha"
     ]
    }
   ],
   "source": [
    "def lastspace(string):\n",
    "    indices = []\n",
    "    for i in range(len(string)):\n",
    "        if string[i] == \" \":\n",
    "            indices.append(i)\n",
    "    if(indices!=[]):\n",
    "        return max(indices)\n",
    "    else:\n",
    "        return i\n",
    "name = input(\"Enter full name: \") \n",
    "i=0\n",
    "last = lastspace(name)\n",
    "if(last == len(name)-1):\n",
    "    print(name)\n",
    "\n",
    "else:        \n",
    "    while i < len(name):\n",
    "        if i==0 or name[i-1]==\" \":\n",
    "            if i < last :\n",
    "                print(name[i].upper(), end=\". \")\n",
    "            else:\n",
    "                print(name[i:len(name)], end=\"\")\n",
    "        i += 1"
   ]
  },
  {
   "cell_type": "code",
   "execution_count": 5,
   "metadata": {},
   "outputs": [
    {
     "name": "stdout",
     "output_type": "stream",
     "text": [
      "[7, 13]\n"
     ]
    }
   ],
   "source": [
    "def lastspace(string):\n",
    "    indices = []\n",
    "    for i in range(len(string)):\n",
    "        if string[i] == \" \":\n",
    "            indices.append(i)\n",
    "    return indices\n",
    "\n",
    "name = \"Santosh Kumar Jha\"\n",
    "print(lastspace(name))"
   ]
  }
 ],
 "metadata": {
  "kernelspec": {
   "display_name": ".venv",
   "language": "python",
   "name": "python3"
  },
  "language_info": {
   "codemirror_mode": {
    "name": "ipython",
    "version": 3
   },
   "file_extension": ".py",
   "mimetype": "text/x-python",
   "name": "python",
   "nbconvert_exporter": "python",
   "pygments_lexer": "ipython3",
   "version": "3.12.5"
  }
 },
 "nbformat": 4,
 "nbformat_minor": 2
}
