{
 "cells": [
  {
   "cell_type": "code",
   "execution_count": 6,
   "metadata": {},
   "outputs": [
    {
     "name": "stdout",
     "output_type": "stream",
     "text": [
      "This is parent object\n",
      "This is parent object\n"
     ]
    }
   ],
   "source": [
    "class parent:\n",
    "    def func(self):\n",
    "        print(\"This is parent object\")\n",
    "class child(parent):\n",
    "    def func(self):\n",
    "        super().func()\n",
    "\n",
    "ob1 = parent()\n",
    "ob1.func()\n",
    "ob2 = child()\n",
    "ob2.func()"
   ]
  },
  {
   "cell_type": "code",
   "execution_count": 1,
   "metadata": {},
   "outputs": [
    {
     "name": "stdout",
     "output_type": "stream",
     "text": [
      "None\n",
      "Area of circle: 78.53975\n",
      "Area of rectangle: 24\n",
      "Area of triangle: 12.0\n"
     ]
    }
   ],
   "source": [
    "class Shape:\n",
    "    def area(self):\n",
    "        pass\n",
    "\n",
    "class Circle(Shape):\n",
    "    def __init__(self, radius):\n",
    "        self.radius = radius\n",
    "\n",
    "    def area(self):\n",
    "        return 3.14159 * self.radius * self.radius\n",
    "\n",
    "class Rectangle(Shape):\n",
    "    def __init__(self, length, breadth):\n",
    "        self.length = length\n",
    "        self.breadth = breadth\n",
    "\n",
    "    def area(self):\n",
    "        return self.length * self.breadth\n",
    "\n",
    "class Triangle(Shape):\n",
    "    def __init__(self, base, height):\n",
    "        self.base = base\n",
    "        self.height = height\n",
    "\n",
    "    def area(self):\n",
    "        return 0.5 * self.base * self.height\n",
    "\n",
    "shape = Shape()\n",
    "circle = Circle(5)\n",
    "rectangle = Rectangle(4, 6)\n",
    "triangle = Triangle(3, 8)\n",
    "\n",
    "print(\"Area of circle:\", circle.area())\n",
    "print(\"Area of rectangle:\", rectangle.area())\n",
    "print(\"Area of triangle:\", triangle.area())\n"
   ]
  },
  {
   "cell_type": "code",
   "execution_count": 9,
   "metadata": {},
   "outputs": [
    {
     "name": "stdout",
     "output_type": "stream",
     "text": [
      "()\n",
      "(1,)\n",
      "(1, 2)\n",
      "(1, 2, 3)\n",
      "(1, 2, 3, 4)\n"
     ]
    }
   ],
   "source": [
    "class Test:\n",
    "    def __init__(self, *args):\n",
    "        self.values = args\n",
    "        print(self.values)\n",
    "            \n",
    "ob1 = Test()\n",
    "ob2 = Test(1)\n",
    "ob3 = Test(1,2)\n",
    "ob4 = Test(1,2,3)\n",
    "ob5 = Test(1,2,3,4)\n",
    "\n"
   ]
  },
  {
   "cell_type": "code",
   "execution_count": 9,
   "metadata": {},
   "outputs": [
    {
     "name": "stdout",
     "output_type": "stream",
     "text": [
      "Name is  Anshu\n",
      "Age is  30\n",
      "True\n"
     ]
    }
   ],
   "source": [
    "class Student:\n",
    "    def __init__(self,name,age) -> None:\n",
    "        self.name = name\n",
    "        self.age = age\n",
    "        \n",
    "    def disp_detail(self):\n",
    "        print(\"Name is \",self.name)\n",
    "        print(\"Age is \",self.age)\n",
    "    def __gt__(self,other):\n",
    "        if self.age>other.age:\n",
    "            self.disp_detail()\n",
    "            return True\n",
    "        else:\n",
    "            other.disp_detail()\n",
    "            return False\n",
    "    def __lt__(self,other):\n",
    "        if self.age<other.age:\n",
    "            other.disp_detail()\n",
    "            return True\n",
    "        else:\n",
    "            self.disp_detail()\n",
    "            return False\n",
    "ob1 = Student(\"Sarthak\", 20)\n",
    "ob2 = Student(\"Anshu\", 30)\n",
    "print(ob1<ob2)"
   ]
  },
  {
   "cell_type": "code",
   "execution_count": null,
   "metadata": {},
   "outputs": [],
   "source": [
    "from abc import ABC, abstractmethod\n",
    "class Test1(ABC):\n",
    "    @abstractmethod\n",
    "    def func1(self):\n",
    "        pass\n",
    "    @abstractmethod\n",
    "    def func2(self):\n",
    "        pass\n",
    "    def func3(self):\n",
    "        print(\"Implemented method\")\n",
    "\n"
   ]
  },
  {
   "cell_type": "code",
   "execution_count": 2,
   "metadata": {},
   "outputs": [
    {
     "name": "stdout",
     "output_type": "stream",
     "text": [
      "Welcome to Bank\n",
      "Interest is 5.5%\n"
     ]
    }
   ],
   "source": [
    "from abc import ABC, abstractmethod\n",
    "class Bank(ABC):\n",
    "    def bankInfo(self):\n",
    "        print(\"Welcome to Bank\")\n",
    "    @abstractmethod\n",
    "    def interest(self):\n",
    "        pass\n",
    "\n",
    "class SBI(Bank):\n",
    "    def interest(self):\n",
    "        print(\"Interest is 5.5%\")\n",
    "\n",
    "obj1 = SBI()\n",
    "obj1.bankInfo()\n",
    "obj1.interest()"
   ]
  }
 ],
 "metadata": {
  "kernelspec": {
   "display_name": ".venv",
   "language": "python",
   "name": "python3"
  },
  "language_info": {
   "codemirror_mode": {
    "name": "ipython",
    "version": 3
   },
   "file_extension": ".py",
   "mimetype": "text/x-python",
   "name": "python",
   "nbconvert_exporter": "python",
   "pygments_lexer": "ipython3",
   "version": "3.11.9"
  }
 },
 "nbformat": 4,
 "nbformat_minor": 2
}
