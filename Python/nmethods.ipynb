{
 "cells": [
  {
   "cell_type": "code",
   "execution_count": 6,
   "id": "0f19411a-2556-44dd-aead-f25dd5761612",
   "metadata": {},
   "outputs": [
    {
     "name": "stdout",
     "output_type": "stream",
     "text": [
      "22.34\n"
     ]
    }
   ],
   "source": [
    "#Round of the follwing number to four significant digit.\n",
    "\n",
    "x = 22.34267\n",
    "print(f\"{x:.2f}\") #f\"{...}\": This denotes an f-string, where expressions inside {} are evaluated at runtime\n",
    "\n"
   ]
  },
  {
   "cell_type": "code",
   "execution_count": 12,
   "id": "d95d339f-08f0-43b5-ac74-1f07e7067e97",
   "metadata": {},
   "outputs": [
    {
     "name": "stdout",
     "output_type": "stream",
     "text": [
      "x= 22.343\n"
     ]
    }
   ],
   "source": [
    "x = 22.34267\n",
    "print(\"x=\",\"%.3f\"%x)"
   ]
  },
  {
   "cell_type": "code",
   "execution_count": 9,
   "id": "81f600e3-b24a-40db-99b4-38ea1a090f6b",
   "metadata": {},
   "outputs": [
    {
     "name": "stdout",
     "output_type": "stream",
     "text": [
      "22.34\n"
     ]
    }
   ],
   "source": [
    "x = 22.34267\n",
    "print(\"{:.2f}\".format(x))\n"
   ]
  },
  {
   "cell_type": "code",
   "execution_count": 14,
   "id": "d0474acc-a17a-45c2-8052-d24b6e46ee7d",
   "metadata": {},
   "outputs": [
    {
     "name": "stdout",
     "output_type": "stream",
     "text": [
      "x= 0.066\n"
     ]
    }
   ],
   "source": [
    "x = 0.065739\n",
    "print(\"x=\",\"%.3f\"%x)"
   ]
  },
  {
   "cell_type": "code",
   "execution_count": 15,
   "id": "e5e9f967-4dd9-4296-92bb-760ae2cd11f4",
   "metadata": {},
   "outputs": [
    {
     "name": "stdout",
     "output_type": "stream",
     "text": [
      "x= 0.0657\n"
     ]
    }
   ],
   "source": [
    "x = 0.065739\n",
    "print(\"x=\",\"%.4f\"%x)"
   ]
  },
  {
   "cell_type": "code",
   "execution_count": 16,
   "id": "37770951-850e-4faa-974a-1b473d0c0f88",
   "metadata": {},
   "outputs": [
    {
     "data": {
      "text/plain": [
       "0.0657"
      ]
     },
     "execution_count": 16,
     "metadata": {},
     "output_type": "execute_result"
    }
   ],
   "source": [
    "x = 0.065739\n",
    "round(x,4)"
   ]
  },
  {
   "cell_type": "code",
   "execution_count": 17,
   "id": "3711506a-d1f6-4868-8d8c-1233bc499d0d",
   "metadata": {},
   "outputs": [
    {
     "data": {
      "text/plain": [
       "0.06574"
      ]
     },
     "execution_count": 17,
     "metadata": {},
     "output_type": "execute_result"
    }
   ],
   "source": [
    "x = 0.065739\n",
    "round(x,5)"
   ]
  },
  {
   "cell_type": "code",
   "execution_count": 18,
   "id": "af24c368-90e8-473d-a39b-2d87dc775f68",
   "metadata": {},
   "outputs": [
    {
     "name": "stdout",
     "output_type": "stream",
     "text": [
      "True Value: 0.1111111111111111\n",
      "Approximate Value: 0.111\n",
      "Absolute Error: 0.0001111111111111035\n",
      "Relative Error: 0.0009999999999999315\n"
     ]
    }
   ],
   "source": [
    "# True value\n",
    "true_value = 1 / 9\n",
    "\n",
    "# Approximate value\n",
    "approximate_value = 0.111\n",
    "\n",
    "# Calculate absolute error\n",
    "absolute_error = abs(true_value - approximate_value)\n",
    "\n",
    "# Calculate relative error\n",
    "relative_error = absolute_error / true_value\n",
    "\n",
    "# Print results\n",
    "print(f\"True Value: {true_value}\")\n",
    "print(f\"Approximate Value: {approximate_value}\")\n",
    "print(f\"Absolute Error: {absolute_error}\")\n",
    "print(f\"Relative Error: {relative_error}\")\n"
   ]
  },
  {
   "cell_type": "code",
   "execution_count": 22,
   "id": "0c78c5bc-b373-4d27-a33d-4cdd6f6ec9b0",
   "metadata": {},
   "outputs": [
    {
     "name": "stdout",
     "output_type": "stream",
     "text": [
      "5.0807568877209164e-05\n",
      "Relative_Error= 2.9333763568127165e-05\n"
     ]
    }
   ],
   "source": [
    "True_value = 3**0.5\n",
    "Approximate_value = 1.732\n",
    "Absolute_error = abs(True_value-Approximate_value)\n",
    "print(Absolute_error)\n",
    "Relative_Error = abs((True_value-Approximate_value)/True_value)\n",
    "print(\"Relative_Error=\",Relative_Error)"
   ]
  },
  {
   "cell_type": "code",
   "execution_count": 23,
   "id": "c288a806-5681-48bc-b782-9c7ec96349c8",
   "metadata": {},
   "outputs": [
    {
     "name": "stdout",
     "output_type": "stream",
     "text": [
      "0.0029333763568127167\n"
     ]
    }
   ],
   "source": [
    "percentage_error = Relative_Error*100\n",
    "print(percentage_error)"
   ]
  },
  {
   "cell_type": "code",
   "execution_count": null,
   "id": "5940bddf-d5a1-47f3-8e5c-b6a9320cf72e",
   "metadata": {},
   "outputs": [],
   "source": []
  }
 ],
 "metadata": {
  "kernelspec": {
   "display_name": "Python 3 (ipykernel)",
   "language": "python",
   "name": "python3"
  },
  "language_info": {
   "codemirror_mode": {
    "name": "ipython",
    "version": 3
   },
   "file_extension": ".py",
   "mimetype": "text/x-python",
   "name": "python",
   "nbconvert_exporter": "python",
   "pygments_lexer": "ipython3",
   "version": "3.12.0"
  }
 },
 "nbformat": 4,
 "nbformat_minor": 5
}
